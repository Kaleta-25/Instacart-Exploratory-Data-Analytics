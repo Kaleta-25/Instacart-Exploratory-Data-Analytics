{
 "cells": [
  {
   "cell_type": "markdown",
   "id": "cb291ea5",
   "metadata": {},
   "source": [
    "# Exploratory Data Analysis Project"
   ]
  },
  {
   "cell_type": "code",
   "execution_count": 1,
   "id": "992ebeb8",
   "metadata": {},
   "outputs": [],
   "source": [
    "import pandas as pd\n",
    "import matplotlib.pyplot as plt\n",
    "import numpy as np"
   ]
  },
  {
   "cell_type": "code",
   "execution_count": 2,
   "id": "ce994e5f",
   "metadata": {},
   "outputs": [],
   "source": [
    "def file_path(x):\n",
    "    y = pd.read_csv(x,sep=';')\n",
    "    return y"
   ]
  },
  {
   "cell_type": "code",
   "execution_count": 3,
   "id": "dbbe459f",
   "metadata": {},
   "outputs": [
    {
     "name": "stdout",
     "output_type": "stream",
     "text": [
      "<class 'pandas.core.frame.DataFrame'>\n",
      "RangeIndex: 478967 entries, 0 to 478966\n",
      "Data columns (total 6 columns):\n",
      " #   Column                  Non-Null Count   Dtype  \n",
      "---  ------                  --------------   -----  \n",
      " 0   order_id                478967 non-null  int64  \n",
      " 1   user_id                 478967 non-null  int64  \n",
      " 2   order_number            478967 non-null  int64  \n",
      " 3   order_dow               478967 non-null  int64  \n",
      " 4   order_hour_of_day       478967 non-null  int64  \n",
      " 5   days_since_prior_order  450148 non-null  float64\n",
      "dtypes: float64(1), int64(5)\n",
      "memory usage: 21.9 MB\n",
      "None\n"
     ]
    }
   ],
   "source": [
    "df_orders = file_path(r\"C:\\Users\\kevin\\datasets\\instacart_orders.csv\")\n",
    "print(df_orders.info())\n",
    "# This CSV shows how each row corresponds to one order on the Instacart app"
   ]
  },
  {
   "cell_type": "code",
   "execution_count": 4,
   "id": "929aa3ad",
   "metadata": {},
   "outputs": [
    {
     "name": "stdout",
     "output_type": "stream",
     "text": [
      "<class 'pandas.core.frame.DataFrame'>\n",
      "RangeIndex: 49694 entries, 0 to 49693\n",
      "Data columns (total 4 columns):\n",
      " #   Column         Non-Null Count  Dtype \n",
      "---  ------         --------------  ----- \n",
      " 0   product_id     49694 non-null  int64 \n",
      " 1   product_name   48436 non-null  object\n",
      " 2   aisle_id       49694 non-null  int64 \n",
      " 3   department_id  49694 non-null  int64 \n",
      "dtypes: int64(3), object(1)\n",
      "memory usage: 1.5+ MB\n",
      "None\n"
     ]
    }
   ],
   "source": [
    "df_products=file_path(r\"C:\\Users\\kevin\\datasets\\products.csv\")\n",
    "print(df_products.info())\n",
    "#This CSV shows each row corresponds to a unique product that customers can buy"
   ]
  },
  {
   "cell_type": "code",
   "execution_count": 5,
   "id": "cbe9bee8",
   "metadata": {},
   "outputs": [
    {
     "name": "stdout",
     "output_type": "stream",
     "text": [
      "<class 'pandas.core.frame.DataFrame'>\n",
      "RangeIndex: 134 entries, 0 to 133\n",
      "Data columns (total 2 columns):\n",
      " #   Column    Non-Null Count  Dtype \n",
      "---  ------    --------------  ----- \n",
      " 0   aisle_id  134 non-null    int64 \n",
      " 1   aisle     134 non-null    object\n",
      "dtypes: int64(1), object(1)\n",
      "memory usage: 2.2+ KB\n",
      "None\n"
     ]
    }
   ],
   "source": [
    "df_aisles=file_path(r\"C:\\Users\\kevin\\datasets\\aisles.csv\")\n",
    "print(df_aisles.info())\n",
    "# 'aisle_id': ID number that uniquely identifies each grocery aisle category\n",
    "# 'aisle': name of the aisle"
   ]
  },
  {
   "cell_type": "code",
   "execution_count": 6,
   "id": "ed6191bb",
   "metadata": {},
   "outputs": [
    {
     "name": "stdout",
     "output_type": "stream",
     "text": [
      "<class 'pandas.core.frame.DataFrame'>\n",
      "RangeIndex: 4545007 entries, 0 to 4545006\n",
      "Data columns (total 4 columns):\n",
      " #   Column             Dtype  \n",
      "---  ------             -----  \n",
      " 0   order_id           int64  \n",
      " 1   product_id         int64  \n",
      " 2   add_to_cart_order  float64\n",
      " 3   reordered          int64  \n",
      "dtypes: float64(1), int64(3)\n",
      "memory usage: 138.7 MB\n",
      "None\n"
     ]
    }
   ],
   "source": [
    "df_order_products=file_path(r\"C:\\Users\\kevin\\datasets\\order_products.csv\")\n",
    "print(df_order_products.info())\n",
    "# This CSV shows how each row corresponds to one item placed in an order"
   ]
  },
  {
   "cell_type": "code",
   "execution_count": 7,
   "id": "24f62222",
   "metadata": {},
   "outputs": [
    {
     "name": "stdout",
     "output_type": "stream",
     "text": [
      "<class 'pandas.core.frame.DataFrame'>\n",
      "RangeIndex: 21 entries, 0 to 20\n",
      "Data columns (total 2 columns):\n",
      " #   Column         Non-Null Count  Dtype \n",
      "---  ------         --------------  ----- \n",
      " 0   department_id  21 non-null     int64 \n",
      " 1   department     21 non-null     object\n",
      "dtypes: int64(1), object(1)\n",
      "memory usage: 464.0+ bytes\n"
     ]
    }
   ],
   "source": [
    "df_departments=file_path(r\"C:\\Users\\kevin\\datasets\\departments.csv\")\n",
    "df_departments.info()\n",
    "# department_id: ID number that uniquely identifies each grocery department category\n",
    "# department: name of the department"
   ]
  },
  {
   "cell_type": "markdown",
   "id": "5fa529d8",
   "metadata": {},
   "source": [
    "## 1. Find and remove duplicate values"
   ]
  },
  {
   "cell_type": "markdown",
   "id": "e2d3fdf1",
   "metadata": {},
   "source": [
    "## 1.1 `orders` data frame"
   ]
  },
  {
   "cell_type": "code",
   "execution_count": 8,
   "id": "2beaca6e",
   "metadata": {},
   "outputs": [
    {
     "data": {
      "text/plain": [
       "15"
      ]
     },
     "execution_count": 8,
     "metadata": {},
     "output_type": "execute_result"
    }
   ],
   "source": [
    "df_orders.duplicated().sum()"
   ]
  },
  {
   "cell_type": "code",
   "execution_count": 9,
   "id": "3e07bb4f",
   "metadata": {},
   "outputs": [
    {
     "name": "stdout",
     "output_type": "stream",
     "text": [
      "       order_id  user_id  order_number  order_dow  order_hour_of_day  \\\n",
      "4838    2766110   162084            41          3                  2   \n",
      "5156    2190225   138285            18          3                  2   \n",
      "15506    553049    58599            13          3                  2   \n",
      "18420    382357   120200            19          3                  2   \n",
      "24691    690242    77357             2          3                  2   \n",
      "25376   1378085    75705            21          3                  2   \n",
      "26301   2846262   176827             2          3                  2   \n",
      "29129    353088    46038             4          3                  2   \n",
      "30371   1918001   188546            14          3                  2   \n",
      "31404   1725788   147843            10          3                  2   \n",
      "\n",
      "       days_since_prior_order  \n",
      "4838                     16.0  \n",
      "5156                     11.0  \n",
      "15506                     7.0  \n",
      "18420                    11.0  \n",
      "24691                     9.0  \n",
      "25376                     5.0  \n",
      "26301                    30.0  \n",
      "29129                    11.0  \n",
      "30371                    16.0  \n",
      "31404                    30.0  \n"
     ]
    }
   ],
   "source": [
    "# Check for all orders placed Wednesday at 2:00 AM\n",
    "result = df_orders[(df_orders['order_dow'] == 3) & (df_orders['order_hour_of_day'] == 2)]\n",
    "print(result.head(10))"
   ]
  },
  {
   "cell_type": "code",
   "execution_count": 10,
   "id": "041d0594",
   "metadata": {},
   "outputs": [],
   "source": [
    "# Remove duplicate orders\n",
    "df_orders = df_orders.drop_duplicates().reset_index(drop=True)"
   ]
  },
  {
   "cell_type": "code",
   "execution_count": 11,
   "id": "38b6ccc8",
   "metadata": {},
   "outputs": [
    {
     "data": {
      "text/plain": [
       "0"
      ]
     },
     "execution_count": 11,
     "metadata": {},
     "output_type": "execute_result"
    }
   ],
   "source": [
    "# Double check for duplicate order IDs only\n",
    "df_orders['order_id'].duplicated().sum()"
   ]
  },
  {
   "cell_type": "code",
   "execution_count": 12,
   "id": "0f788d87",
   "metadata": {},
   "outputs": [
    {
     "data": {
      "text/plain": [
       "0"
      ]
     },
     "execution_count": 12,
     "metadata": {},
     "output_type": "execute_result"
    }
   ],
   "source": [
    "df_orders.duplicated().sum()"
   ]
  },
  {
   "cell_type": "markdown",
   "id": "e8c535ce",
   "metadata": {},
   "source": [
    "### 1.2 `products` data frame"
   ]
  },
  {
   "cell_type": "code",
   "execution_count": 13,
   "id": "e2b20872",
   "metadata": {},
   "outputs": [
    {
     "data": {
      "text/plain": [
       "0"
      ]
     },
     "execution_count": 13,
     "metadata": {},
     "output_type": "execute_result"
    }
   ],
   "source": [
    "# Check for fully duplicate rows\n",
    "df_products.duplicated().sum()"
   ]
  },
  {
   "cell_type": "code",
   "execution_count": 14,
   "id": "6e33f152",
   "metadata": {},
   "outputs": [
    {
     "data": {
      "text/plain": [
       "0"
      ]
     },
     "execution_count": 14,
     "metadata": {},
     "output_type": "execute_result"
    }
   ],
   "source": [
    "# Check for just duplicate product IDs\n",
    "df_products['product_id'].duplicated().sum()"
   ]
  },
  {
   "cell_type": "code",
   "execution_count": 15,
   "id": "0a308d08",
   "metadata": {},
   "outputs": [
    {
     "data": {
      "text/plain": [
       "1361"
      ]
     },
     "execution_count": 15,
     "metadata": {},
     "output_type": "execute_result"
    }
   ],
   "source": [
    "# Check for just duplicate product names (convert names to lowercase to compare better)\n",
    "df_products['product_name'].str.lower().duplicated().sum()"
   ]
  },
  {
   "cell_type": "code",
   "execution_count": 16,
   "id": "275f532e",
   "metadata": {},
   "outputs": [
    {
     "name": "stdout",
     "output_type": "stream",
     "text": [
      "104\n"
     ]
    }
   ],
   "source": [
    "# check for duplicate products names that are not missing\n",
    "check = ~df_products['product_name'].isna() & df_products['product_name'].str.lower().duplicated()\n",
    "print(check.sum())"
   ]
  },
  {
   "cell_type": "markdown",
   "id": "69afddcf",
   "metadata": {},
   "source": [
    "### 1.3 `departments` data frame"
   ]
  },
  {
   "cell_type": "code",
   "execution_count": 17,
   "id": "dbd5807d",
   "metadata": {},
   "outputs": [
    {
     "data": {
      "text/plain": [
       "0"
      ]
     },
     "execution_count": 17,
     "metadata": {},
     "output_type": "execute_result"
    }
   ],
   "source": [
    "df_departments.duplicated().sum()"
   ]
  },
  {
   "cell_type": "code",
   "execution_count": 18,
   "id": "04e8974d",
   "metadata": {},
   "outputs": [
    {
     "data": {
      "text/plain": [
       "0"
      ]
     },
     "execution_count": 18,
     "metadata": {},
     "output_type": "execute_result"
    }
   ],
   "source": [
    "df_departments['department_id'].duplicated().sum()"
   ]
  },
  {
   "cell_type": "markdown",
   "id": "83625a78",
   "metadata": {},
   "source": [
    "### 1.4 `aisles` data frame"
   ]
  },
  {
   "cell_type": "code",
   "execution_count": 19,
   "id": "c8a252e2",
   "metadata": {},
   "outputs": [
    {
     "data": {
      "text/plain": [
       "0"
      ]
     },
     "execution_count": 19,
     "metadata": {},
     "output_type": "execute_result"
    }
   ],
   "source": [
    "df_aisles.duplicated().sum()"
   ]
  },
  {
   "cell_type": "code",
   "execution_count": 20,
   "id": "4ce02104",
   "metadata": {},
   "outputs": [
    {
     "data": {
      "text/plain": [
       "0"
      ]
     },
     "execution_count": 20,
     "metadata": {},
     "output_type": "execute_result"
    }
   ],
   "source": [
    "df_aisles['aisle_id'].duplicated().sum()"
   ]
  },
  {
   "cell_type": "markdown",
   "id": "ed04e0b9",
   "metadata": {},
   "source": [
    "### 1.5 `order_products` data frame"
   ]
  },
  {
   "cell_type": "code",
   "execution_count": 21,
   "id": "2360f60b",
   "metadata": {},
   "outputs": [
    {
     "data": {
      "text/plain": [
       "0"
      ]
     },
     "execution_count": 21,
     "metadata": {},
     "output_type": "execute_result"
    }
   ],
   "source": [
    "df_order_products.duplicated().sum()"
   ]
  },
  {
   "cell_type": "code",
   "execution_count": 22,
   "id": "648ff88b",
   "metadata": {},
   "outputs": [
    {
     "data": {
      "text/plain": [
       "0"
      ]
     },
     "execution_count": 22,
     "metadata": {},
     "output_type": "execute_result"
    }
   ],
   "source": [
    "df_order_products.duplicated(subset=['order_id','product_id']).sum()"
   ]
  },
  {
   "cell_type": "markdown",
   "id": "b542a026",
   "metadata": {},
   "source": [
    "## 2. Find and remove missing values"
   ]
  },
  {
   "cell_type": "markdown",
   "id": "da0df4a2",
   "metadata": {},
   "source": [
    "### 2.1 `products` data frame"
   ]
  },
  {
   "cell_type": "code",
   "execution_count": 23,
   "id": "62c3fef2",
   "metadata": {},
   "outputs": [
    {
     "data": {
      "text/plain": [
       "product_id          0\n",
       "product_name     1258\n",
       "aisle_id            0\n",
       "department_id       0\n",
       "dtype: int64"
      ]
     },
     "execution_count": 23,
     "metadata": {},
     "output_type": "execute_result"
    }
   ],
   "source": [
    "df_products.isna().sum()"
   ]
  },
  {
   "cell_type": "code",
   "execution_count": 24,
   "id": "ff879bdf",
   "metadata": {},
   "outputs": [
    {
     "name": "stdout",
     "output_type": "stream",
     "text": [
      "       product_id product_name  aisle_id  department_id\n",
      "37             38          NaN       100             21\n",
      "71             72          NaN       100             21\n",
      "109           110          NaN       100             21\n",
      "296           297          NaN       100             21\n",
      "416           417          NaN       100             21\n",
      "...           ...          ...       ...            ...\n",
      "49552       49553          NaN       100             21\n",
      "49574       49575          NaN       100             21\n",
      "49640       49641          NaN       100             21\n",
      "49663       49664          NaN       100             21\n",
      "49668       49669          NaN       100             21\n",
      "\n",
      "[1258 rows x 4 columns]\n",
      "product_id       1258\n",
      "product_name        0\n",
      "aisle_id         1258\n",
      "department_id    1258\n",
      "dtype: int64\n"
     ]
    }
   ],
   "source": [
    "# Are all of the missing product names associated with aisle ID 100?\n",
    "miss_product = df_products[(df_products['product_name'].isna()) & (df_products['aisle_id']==100)]\n",
    "print(miss_product)\n",
    "print(miss_product.count())"
   ]
  },
  {
   "cell_type": "code",
   "execution_count": 25,
   "id": "23ca4556",
   "metadata": {},
   "outputs": [
    {
     "name": "stdout",
     "output_type": "stream",
     "text": [
      "       product_id product_name  aisle_id  department_id\n",
      "37             38          NaN       100             21\n",
      "71             72          NaN       100             21\n",
      "109           110          NaN       100             21\n",
      "296           297          NaN       100             21\n",
      "416           417          NaN       100             21\n",
      "...           ...          ...       ...            ...\n",
      "49552       49553          NaN       100             21\n",
      "49574       49575          NaN       100             21\n",
      "49640       49641          NaN       100             21\n",
      "49663       49664          NaN       100             21\n",
      "49668       49669          NaN       100             21\n",
      "\n",
      "[1258 rows x 4 columns]\n",
      "product_id       1258\n",
      "product_name        0\n",
      "aisle_id         1258\n",
      "department_id    1258\n",
      "dtype: int64\n"
     ]
    }
   ],
   "source": [
    "# Are all of the missing product names associated with department ID 21?\n",
    "associated_department = df_products.loc[(df_products['product_name'].isna()) & (df_products['department_id']==21)]\n",
    "print(associated_department)\n",
    "print(associated_department.count())"
   ]
  },
  {
   "cell_type": "code",
   "execution_count": 26,
   "id": "f044df8c",
   "metadata": {},
   "outputs": [
    {
     "name": "stdout",
     "output_type": "stream",
     "text": [
      "20    missing\n",
      "Name: department, dtype: object\n",
      "99    missing\n",
      "Name: aisle, dtype: object\n"
     ]
    }
   ],
   "source": [
    "# What is this ailse and department?\n",
    "print(df_departments[df_departments['department_id'] == 21]['department'])\n",
    "print(df_aisles[df_aisles['aisle_id']==100]['aisle'])"
   ]
  },
  {
   "cell_type": "code",
   "execution_count": 27,
   "id": "f0fa5e1a",
   "metadata": {},
   "outputs": [
    {
     "data": {
      "text/plain": [
       "0                           Chocolate Sandwich Cookies\n",
       "1                                     All-Seasons Salt\n",
       "2                 Robust Golden Unsweetened Oolong Tea\n",
       "3    Smart Ones Classic Favorites Mini Rigatoni Wit...\n",
       "4                            Green Chile Anytime Sauce\n",
       "Name: product_name, dtype: object"
      ]
     },
     "execution_count": 27,
     "metadata": {},
     "output_type": "execute_result"
    }
   ],
   "source": [
    "# Fill missing product names with 'Unknown'\n",
    "df_products['product_name'].fillna('Unknown')\n",
    "df_products['product_name'].head()"
   ]
  },
  {
   "cell_type": "markdown",
   "id": "51a82994",
   "metadata": {},
   "source": [
    "### 2.2  `orders` data frame"
   ]
  },
  {
   "cell_type": "code",
   "execution_count": 28,
   "id": "26455b5c",
   "metadata": {},
   "outputs": [
    {
     "data": {
      "text/plain": [
       "order_id                      0\n",
       "user_id                       0\n",
       "order_number                  0\n",
       "order_dow                     0\n",
       "order_hour_of_day             0\n",
       "days_since_prior_order    28817\n",
       "dtype: int64"
      ]
     },
     "execution_count": 28,
     "metadata": {},
     "output_type": "execute_result"
    }
   ],
   "source": [
    "df_orders.isna().sum()"
   ]
  },
  {
   "cell_type": "code",
   "execution_count": 29,
   "id": "4208ad5f",
   "metadata": {},
   "outputs": [
    {
     "data": {
      "text/plain": [
       "0         183418\n",
       "1         163593\n",
       "2          39980\n",
       "3          82516\n",
       "4         196724\n",
       "           ...  \n",
       "478947      5617\n",
       "478948    112087\n",
       "478949     82944\n",
       "478950      4391\n",
       "478951      1730\n",
       "Name: user_id, Length: 450135, dtype: int64"
      ]
     },
     "execution_count": 29,
     "metadata": {},
     "output_type": "execute_result"
    }
   ],
   "source": [
    "# Are there any missing values where it's  customer's first order? user_id and order_number\n",
    "df_orders.loc[df_orders['order_number'] != 1, 'user_id']"
   ]
  },
  {
   "cell_type": "markdown",
   "id": "4ec769fb",
   "metadata": {},
   "source": [
    "### `order_products` data frame"
   ]
  },
  {
   "cell_type": "code",
   "execution_count": 30,
   "id": "bee2bdfe",
   "metadata": {},
   "outputs": [
    {
     "data": {
      "text/plain": [
       "order_id               0\n",
       "product_id             0\n",
       "add_to_cart_order    836\n",
       "reordered              0\n",
       "dtype: int64"
      ]
     },
     "execution_count": 30,
     "metadata": {},
     "output_type": "execute_result"
    }
   ],
   "source": [
    "df_order_products.isna().sum()"
   ]
  },
  {
   "cell_type": "code",
   "execution_count": 31,
   "id": "e4804b1c",
   "metadata": {},
   "outputs": [
    {
     "name": "stdout",
     "output_type": "stream",
     "text": [
      "64.0\n",
      "1.0\n"
     ]
    }
   ],
   "source": [
    "# What are the min and max values in this column?\n",
    "print(df_order_products['add_to_cart_order'].max())\n",
    "print(df_order_products['add_to_cart_order'].min())"
   ]
  },
  {
   "cell_type": "code",
   "execution_count": 32,
   "id": "3fc9530b",
   "metadata": {},
   "outputs": [
    {
     "data": {
      "text/plain": [
       "array([2449164, 1968313, 2926893, 1717990, 1959075,  844733,   61355,\n",
       "        936852,  264710, 1564093,  129627,  293169, 2849370, 1386261,\n",
       "       3308010,  903110, 2136777, 3347453, 1888628,  165801, 2094761,\n",
       "       1038146, 2997021,  813364, 2256933,  171934, 2409109, 1730767,\n",
       "       1169835,  733526,  404157, 3125735,  747668, 1800005, 1961723,\n",
       "        871281,  388234, 1648217, 1477139,  102236, 1021563, 1832957,\n",
       "       2721963,  678116, 1220886, 1673227, 2999801, 1633337, 2470674,\n",
       "       2625444, 1677118, 2479011, 3383594, 1183255, 1713430, 2652650,\n",
       "       1598369, 1916118,  854647, 1302315,  888470,  180546, 2621907,\n",
       "       1308785, 2729254,    9310, 2170451, 2979697, 1625713, 1529171],\n",
       "      dtype=int64)"
      ]
     },
     "execution_count": 32,
     "metadata": {},
     "output_type": "execute_result"
    }
   ],
   "source": [
    "# Save all order IDs with at least one missing value in 'add_to_cart_order'\n",
    "order_id_with_missing_values  =  df_order_products[df_order_products['add_to_cart_order'].isna()]['order_id'].unique()\n",
    "order_id_with_missing_values"
   ]
  },
  {
   "cell_type": "code",
   "execution_count": 33,
   "id": "f82c2a51",
   "metadata": {},
   "outputs": [
    {
     "data": {
      "text/plain": [
       "order_id\n",
       "9310        65\n",
       "61355      127\n",
       "102236      95\n",
       "129627      69\n",
       "165801      70\n",
       "          ... \n",
       "2999801     70\n",
       "3125735     86\n",
       "3308010    115\n",
       "3347453     71\n",
       "3383594     69\n",
       "Name: product_id, Length: 70, dtype: int64"
      ]
     },
     "execution_count": 33,
     "metadata": {},
     "output_type": "execute_result"
    }
   ],
   "source": [
    "# Do all orders with missing values have more than 64 products?\n",
    "missing_values = df_order_products[df_order_products['order_id'].isin(order_id_with_missing_values)]\n",
    "missing_values.groupby('order_id')['product_id'].count()"
   ]
  },
  {
   "cell_type": "code",
   "execution_count": 34,
   "id": "640296ed",
   "metadata": {},
   "outputs": [],
   "source": [
    "# Replace missing values with 999 and convert column to integer type\n",
    "df_order_products['add_to_cart_order'] = df_order_products['add_to_cart_order'].fillna(value=999)\n",
    "df_order_products['add_to_cart_order'] = df_order_products['add_to_cart_order'].astype('int')"
   ]
  },
  {
   "cell_type": "markdown",
   "id": "92512133",
   "metadata": {},
   "source": [
    "There were missing values found in the 'Add to cart order' column. The max and min values in that column were 64 and 1. \n",
    "We took order IDs with at least one missing value in 'add_to_cart_order' and then saw how certain Order IDs have more than 64 products. \n",
    "Each missing value in Add To Cart order were changed from NaN to 999. \n",
    "We found that a lot of these order IDs do have more than 64 orders within the data set. "
   ]
  },
  {
   "cell_type": "markdown",
   "id": "e1d6c6fc",
   "metadata": {},
   "source": [
    "### [A1] Verify that the `'order_hour_of_day'` and `'order_dow'` values in the `orders` tables are sensible (i.e. `'order_hour_of_day'` ranges from 0 to 23 and `'order_dow'` ranges from 0 to 6)"
   ]
  },
  {
   "cell_type": "code",
   "execution_count": 35,
   "id": "00b84856",
   "metadata": {},
   "outputs": [
    {
     "name": "stdout",
     "output_type": "stream",
     "text": [
      "23\n",
      "0\n"
     ]
    },
    {
     "data": {
      "text/plain": [
       "[0,\n",
       " 1,\n",
       " 2,\n",
       " 3,\n",
       " 4,\n",
       " 5,\n",
       " 6,\n",
       " 7,\n",
       " 8,\n",
       " 9,\n",
       " 10,\n",
       " 11,\n",
       " 12,\n",
       " 13,\n",
       " 14,\n",
       " 15,\n",
       " 16,\n",
       " 17,\n",
       " 18,\n",
       " 19,\n",
       " 20,\n",
       " 21,\n",
       " 22,\n",
       " 23]"
      ]
     },
     "execution_count": 35,
     "metadata": {},
     "output_type": "execute_result"
    }
   ],
   "source": [
    "print(df_orders['order_hour_of_day'].max())\n",
    "print(df_orders['order_hour_of_day'].min())\n",
    "sorted(df_orders['order_hour_of_day'].unique()) "
   ]
  },
  {
   "cell_type": "code",
   "execution_count": 36,
   "id": "d9dcb90d",
   "metadata": {},
   "outputs": [
    {
     "name": "stdout",
     "output_type": "stream",
     "text": [
      "6\n",
      "0\n"
     ]
    },
    {
     "data": {
      "text/plain": [
       "[0, 1, 2, 3, 4, 5, 6]"
      ]
     },
     "execution_count": 36,
     "metadata": {},
     "output_type": "execute_result"
    }
   ],
   "source": [
    "print(df_orders['order_dow'].max())\n",
    "print(df_orders['order_dow'].min())\n",
    "sorted(df_orders['order_dow'].unique()) "
   ]
  },
  {
   "cell_type": "markdown",
   "id": "4ed129c9",
   "metadata": {},
   "source": [
    "### [A2] What time of day do people shop for groceries?"
   ]
  },
  {
   "cell_type": "code",
   "execution_count": 37,
   "id": "0678a6e5",
   "metadata": {},
   "outputs": [
    {
     "data": {
      "text/plain": [
       "<AxesSubplot:title={'center':'Time of Day People Shop for Groceries'}, xlabel='Time of Day', ylabel='Groceries'>"
      ]
     },
     "execution_count": 37,
     "metadata": {},
     "output_type": "execute_result"
    },
    {
     "data": {
      "image/png": "[encoded data removed]",
      "text/plain": [
       "<Figure size 432x288 with 1 Axes>"
      ]
     },
     "metadata": {
      "needs_background": "light"
     },
     "output_type": "display_data"
    }
   ],
   "source": [
    "day_time_groceries= df_orders['order_hour_of_day'].value_counts().sort_index()\n",
    "day_time_groceries.plot(kind='bar',title='Time of Day People Shop for Groceries', xlabel='Time of Day', ylabel='Groceries')"
   ]
  },
  {
   "cell_type": "markdown",
   "id": "e8a4b67d",
   "metadata": {},
   "source": [
    "Looks like a lot of individuals shop for groceries mid-day. Based on the graph, going off of military time. 9AM to 4pm(16) is the time individuals shop for groceries. Seem likes at 5pm(17) it starts decreasing. "
   ]
  },
  {
   "cell_type": "markdown",
   "id": "a2226646",
   "metadata": {},
   "source": [
    "### [A3] What day of the week do people shop for groceries?"
   ]
  },
  {
   "cell_type": "code",
   "execution_count": 38,
   "id": "c2c7eddf",
   "metadata": {},
   "outputs": [
    {
     "data": {
      "text/plain": [
       "<AxesSubplot:title={'center':'Day of the Week People Shop for Groceries'}, xlabel='Days', ylabel='Number of People'>"
      ]
     },
     "execution_count": 38,
     "metadata": {},
     "output_type": "execute_result"
    },
    {
     "data": {
      "image/png": "[encoded data removed]",
      "text/plain": [
       "<Figure size 432x288 with 1 Axes>"
      ]
     },
     "metadata": {
      "needs_background": "light"
     },
     "output_type": "display_data"
    }
   ],
   "source": [
    "day_week_groceries= df_orders['order_dow'].value_counts().sort_index()\n",
    "day_week_groceries.plot(kind='bar',title='Day of the Week People Shop for Groceries',ylabel='Number of People',xlabel='Days')"
   ]
  },
  {
   "cell_type": "markdown",
   "id": "cf62e991",
   "metadata": {},
   "source": [
    "It seems pretty even, but the beggining of the week is a much busier time compared to the rest of the week. Mid week is when people are going the least. "
   ]
  },
  {
   "cell_type": "markdown",
   "id": "a2c39f40",
   "metadata": {},
   "source": [
    "### [A4] How long do people wait until placing another order?"
   ]
  },
  {
   "cell_type": "code",
   "execution_count": 39,
   "id": "e65c3dec",
   "metadata": {},
   "outputs": [],
   "source": [
    "people_wait_groceries=df_orders['days_since_prior_order'].value_counts().sort_index()"
   ]
  },
  {
   "cell_type": "code",
   "execution_count": 40,
   "id": "72bc48b3",
   "metadata": {},
   "outputs": [
    {
     "data": {
      "text/plain": [
       "<AxesSubplot:title={'center':'Days People Wait Until Placing Another Order'}, xlabel='Days', ylabel='Amount of Orders'>"
      ]
     },
     "execution_count": 40,
     "metadata": {},
     "output_type": "execute_result"
    },
    {
     "data": {
      "image/png": "[encoded data removed]",
      "text/plain": [
       "<Figure size 432x288 with 1 Axes>"
      ]
     },
     "metadata": {
      "needs_background": "light"
     },
     "output_type": "display_data"
    }
   ],
   "source": [
    "people_wait_groceries.plot(kind='bar',title='Days People Wait Until Placing Another Order',ylabel='Amount of Orders',xlabel='Days')"
   ]
  },
  {
   "cell_type": "markdown",
   "id": "7dd643a9",
   "metadata": {},
   "source": [
    "1-7 days is the most common for placing another order and it gets substantially less from there. Although, out of all the days, 30 days is by far the most popular to wait. 7 and 30 days are the most common. Basically, every week or every month."
   ]
  },
  {
   "cell_type": "markdown",
   "id": "ab0ea8b1",
   "metadata": {},
   "source": [
    "### [B1] Is there a difference in `'order_hour_of_day'` distributions on Wednesdays and Saturdays? Plot the histograms for both days and describe the differences that you see."
   ]
  },
  {
   "cell_type": "code",
   "execution_count": 41,
   "id": "6303257e",
   "metadata": {},
   "outputs": [],
   "source": [
    "df_oh_wednesday = df_orders[df_orders['order_dow']==3]\n",
    "df_oh_saturday = df_orders[df_orders['order_dow']==6]"
   ]
  },
  {
   "cell_type": "code",
   "execution_count": 42,
   "id": "119d6429",
   "metadata": {},
   "outputs": [
    {
     "data": {
      "text/plain": [
       "Text(0.5, 1.0, 'Wednesday')"
      ]
     },
     "execution_count": 42,
     "metadata": {},
     "output_type": "execute_result"
    },
    {
     "data": {
      "image/png": "[encoded data removed]",
      "text/plain": [
       "<Figure size 432x288 with 1 Axes>"
      ]
     },
     "metadata": {
      "needs_background": "light"
     },
     "output_type": "display_data"
    }
   ],
   "source": [
    "df_oh_wednesday['order_hour_of_day'].hist(bins=50)\n",
    "plt.xlabel('Hour')\n",
    "plt.ylabel('Number of orders')\n",
    "plt.title('Wednesday')"
   ]
  },
  {
   "cell_type": "code",
   "execution_count": 43,
   "id": "40304f09",
   "metadata": {},
   "outputs": [
    {
     "data": {
      "text/plain": [
       "Text(0.5, 1.0, 'Saturday')"
      ]
     },
     "execution_count": 43,
     "metadata": {},
     "output_type": "execute_result"
    },
    {
     "data": {
      "image/png": "[encoded data removed]",
      "text/plain": [
       "<Figure size 432x288 with 1 Axes>"
      ]
     },
     "metadata": {
      "needs_background": "light"
     },
     "output_type": "display_data"
    }
   ],
   "source": [
    "df_oh_saturday['order_hour_of_day'].hist(bins=50)\n",
    "plt.xlabel('Hour')\n",
    "plt.ylabel('Number of orders')\n",
    "plt.title('Saturday')"
   ]
  },
  {
   "cell_type": "markdown",
   "id": "49a22f66",
   "metadata": {},
   "source": [
    "Based on these results, there are more orders on Saturday. Although, what is similar is majority of the orders come from mid day. Pretty similar results into the evening."
   ]
  },
  {
   "cell_type": "code",
   "execution_count": 44,
   "id": "5f115223",
   "metadata": {},
   "outputs": [
    {
     "data": {
      "image/png": "[encoded data removed]",
      "text/plain": [
       "<Figure size 432x288 with 1 Axes>"
      ]
     },
     "metadata": {
      "needs_background": "light"
     },
     "output_type": "display_data"
    }
   ],
   "source": [
    "df_oh_wednesday['order_hour_of_day'].plot(kind='hist', bins=np.arange(0,25,1), label = 'Wednesday')\n",
    "df_oh_saturday['order_hour_of_day'].plot(kind='hist', bins=np.arange(0,25,1), alpha=0.5, label = 'Saturday')\n",
    "\n",
    "plt.title('Order_hour_of_day distributions on Wednesdays and Saturdays')\n",
    "plt.legend()\n",
    "plt.xlabel('Hour')\n",
    "plt.ylabel('Number of orders')\n",
    "plt.show()"
   ]
  },
  {
   "cell_type": "markdown",
   "id": "23adddb2",
   "metadata": {},
   "source": [
    "### [B2] What's the distribution for the number of orders per customer?"
   ]
  },
  {
   "cell_type": "code",
   "execution_count": 45,
   "id": "f2bfc2d6",
   "metadata": {},
   "outputs": [
    {
     "name": "stdout",
     "output_type": "stream",
     "text": [
      "149605    28\n",
      "193164    26\n",
      "78375     25\n",
      "66664     24\n",
      "134511    24\n",
      "          ..\n",
      "71501      1\n",
      "187439     1\n",
      "6845       1\n",
      "176472     1\n",
      "34561      1\n",
      "Name: user_id, Length: 157437, dtype: int64\n"
     ]
    }
   ],
   "source": [
    "distribution_numbers = df_orders['user_id'].value_counts()\n",
    "print(distribution_numbers)"
   ]
  },
  {
   "cell_type": "code",
   "execution_count": 46,
   "id": "7017e9e7",
   "metadata": {},
   "outputs": [
    {
     "data": {
      "text/plain": [
       "<AxesSubplot:ylabel='Frequency'>"
      ]
     },
     "execution_count": 46,
     "metadata": {},
     "output_type": "execute_result"
    },
    {
     "data": {
      "image/png": "[encoded data removed]",
      "text/plain": [
       "<Figure size 432x288 with 1 Axes>"
      ]
     },
     "metadata": {
      "needs_background": "light"
     },
     "output_type": "display_data"
    }
   ],
   "source": [
    "distribution_numbers.plot(kind='hist', bins=np.arange(0,distribution_numbers.max(),1))"
   ]
  },
  {
   "cell_type": "markdown",
   "id": "dac0c544",
   "metadata": {},
   "source": [
    "Majority of customers mainly go into the store to buy 1-5 products. As the number of products get larger, the amount of customers that buy that specific total decreases. "
   ]
  },
  {
   "cell_type": "markdown",
   "id": "f788f37f",
   "metadata": {},
   "source": [
    "### [B3] What are the top 20 popular products (display their id and name)?"
   ]
  },
  {
   "cell_type": "code",
   "execution_count": 47,
   "id": "26e89808",
   "metadata": {},
   "outputs": [],
   "source": [
    "popular_products = df_order_products.merge(df_products, on='product_id')"
   ]
  },
  {
   "cell_type": "code",
   "execution_count": 48,
   "id": "b5e56cca",
   "metadata": {},
   "outputs": [
    {
     "data": {
      "text/plain": [
       "product_id  product_name            \n",
       "24852       Banana                      66050\n",
       "13176       Bag of Organic Bananas      53297\n",
       "21137       Organic Strawberries        37039\n",
       "21903       Organic Baby Spinach        33971\n",
       "47209       Organic Hass Avocado        29773\n",
       "47766       Organic Avocado             24689\n",
       "47626       Large Lemon                 21495\n",
       "16797       Strawberries                20018\n",
       "26209       Limes                       19690\n",
       "27845       Organic Whole Milk          19600\n",
       "27966       Organic Raspberries         19197\n",
       "22935       Organic Yellow Onion        15898\n",
       "24964       Organic Garlic              15292\n",
       "45007       Organic Zucchini            14584\n",
       "39275       Organic Blueberries         13879\n",
       "49683       Cucumber Kirby              13675\n",
       "28204       Organic Fuji Apple          12544\n",
       "5876        Organic Lemon               12232\n",
       "8277        Apple Honeycrisp Organic    11993\n",
       "40706       Organic Grape Tomatoes      11781\n",
       "dtype: int64"
      ]
     },
     "execution_count": 48,
     "metadata": {},
     "output_type": "execute_result"
    }
   ],
   "source": [
    "popular_products = popular_products.groupby(['product_id', 'product_name']).size().sort_values(ascending=False)\n",
    "popular_products.head(20)"
   ]
  },
  {
   "cell_type": "code",
   "execution_count": 49,
   "id": "6337e6d7",
   "metadata": {},
   "outputs": [
    {
     "data": {
      "image/png": "[encoded data removed]",
      "text/plain": [
       "<Figure size 432x288 with 1 Axes>"
      ]
     },
     "metadata": {
      "needs_background": "light"
     },
     "output_type": "display_data"
    }
   ],
   "source": [
    "popular_products.head(20).plot.bar()\n",
    "plt.show()"
   ]
  },
  {
   "cell_type": "markdown",
   "id": "accdb530",
   "metadata": {},
   "source": [
    "### [C1] How many items do people typically buy in one order? What does the distribution look like?"
   ]
  },
  {
   "cell_type": "code",
   "execution_count": 50,
   "id": "a5ed0950",
   "metadata": {},
   "outputs": [
    {
     "name": "stdout",
     "output_type": "stream",
     "text": [
      "order_id\n",
      "4          13\n",
      "9          15\n",
      "11          5\n",
      "19          3\n",
      "20          8\n",
      "           ..\n",
      "3421034    17\n",
      "3421053     9\n",
      "3421071     5\n",
      "3421077     4\n",
      "3421079     1\n",
      "Name: product_id, Length: 450046, dtype: int64\n"
     ]
    }
   ],
   "source": [
    "one_order = df_order_products.groupby('order_id')['product_id'].nunique()\n",
    "print(one_order)"
   ]
  },
  {
   "cell_type": "code",
   "execution_count": 51,
   "id": "8f31e440",
   "metadata": {},
   "outputs": [
    {
     "name": "stdout",
     "output_type": "stream",
     "text": [
      "1      21847\n",
      "2      26292\n",
      "3      29046\n",
      "4      31054\n",
      "5      31923\n",
      "       ...  \n",
      "98         1\n",
      "104        1\n",
      "108        1\n",
      "115        1\n",
      "127        1\n",
      "Name: product_id, Length: 90, dtype: int64\n"
     ]
    }
   ],
   "source": [
    "one_order = one_order.value_counts()\n",
    "print(one_order.sort_index())"
   ]
  },
  {
   "cell_type": "code",
   "execution_count": 52,
   "id": "4c62ceca",
   "metadata": {},
   "outputs": [
    {
     "data": {
      "image/png": "[encoded data removed]",
      "text/plain": [
       "<Figure size 1152x360 with 1 Axes>"
      ]
     },
     "metadata": {
      "needs_background": "light"
     },
     "output_type": "display_data"
    }
   ],
   "source": [
    "one_order.sort_index().plot(kind='bar',title=\"Items bought in one order\", figsize=(16,5));"
   ]
  },
  {
   "cell_type": "markdown",
   "id": "c9cb389b",
   "metadata": {},
   "source": [
    "The number of items bought in one order peaks at 4-5.6 is when we start the # of orders start dropping off. We dont see many buy 30+ orders. These individuals could be businesses, large groups, large families. "
   ]
  },
  {
   "cell_type": "markdown",
   "id": "92202fc2",
   "metadata": {},
   "source": [
    "### [C2] What are the top 20 items that are reordered most frequently (display their names and product IDs)?"
   ]
  },
  {
   "cell_type": "code",
   "execution_count": 53,
   "id": "6126e807",
   "metadata": {},
   "outputs": [
    {
     "name": "stdout",
     "output_type": "stream",
     "text": [
      "         order_id  product_id  add_to_cart_order  reordered  \\\n",
      "0         2141543       11440                 17          0   \n",
      "1          147172       11440                  7          1   \n",
      "2         3341719       11440                  4          1   \n",
      "3         1938779       11440                  8          1   \n",
      "4         1728338       11440                 23          0   \n",
      "...           ...         ...                ...        ...   \n",
      "4545002    267402       45226                 14          0   \n",
      "4545003   2621676       25201                 10          0   \n",
      "4545004    937623       49153                  2          0   \n",
      "4545005    532895        8182                  1          0   \n",
      "4545006   3132243       40024                  1          0   \n",
      "\n",
      "                               product_name  aisle_id  department_id  \n",
      "0            Chicken Breast Tenders Breaded       129              1  \n",
      "1            Chicken Breast Tenders Breaded       129              1  \n",
      "2            Chicken Breast Tenders Breaded       129              1  \n",
      "3            Chicken Breast Tenders Breaded       129              1  \n",
      "4            Chicken Breast Tenders Breaded       129              1  \n",
      "...                                     ...       ...            ...  \n",
      "4545002   Sweet Teriyaki Chicken Oven Sauce         5             13  \n",
      "4545003          Crisp Waters Candle Scents       101             17  \n",
      "4545004  Shine Collection Brillance Shampoo        22             11  \n",
      "4545005    Total Mint Stripe Gel Toothpaste        20             11  \n",
      "4545006                 Egg Replacer Powder        17             13  \n",
      "\n",
      "[4545007 rows x 7 columns]\n"
     ]
    }
   ],
   "source": [
    "top_t_re = df_order_products.merge(df_products,on='product_id')\n",
    "print(top_t_re)"
   ]
  },
  {
   "cell_type": "code",
   "execution_count": 54,
   "id": "49d66802",
   "metadata": {},
   "outputs": [
    {
     "name": "stdout",
     "output_type": "stream",
     "text": [
      "         order_id  product_id  add_to_cart_order  reordered  \\\n",
      "0         2141543       11440                 17          0   \n",
      "1          147172       11440                  7          1   \n",
      "2         3341719       11440                  4          1   \n",
      "3         1938779       11440                  8          1   \n",
      "4         1728338       11440                 23          0   \n",
      "...           ...         ...                ...        ...   \n",
      "4545002    267402       45226                 14          0   \n",
      "4545003   2621676       25201                 10          0   \n",
      "4545004    937623       49153                  2          0   \n",
      "4545005    532895        8182                  1          0   \n",
      "4545006   3132243       40024                  1          0   \n",
      "\n",
      "                               product_name  aisle_id  department_id  \n",
      "0            Chicken Breast Tenders Breaded       129              1  \n",
      "1            Chicken Breast Tenders Breaded       129              1  \n",
      "2            Chicken Breast Tenders Breaded       129              1  \n",
      "3            Chicken Breast Tenders Breaded       129              1  \n",
      "4            Chicken Breast Tenders Breaded       129              1  \n",
      "...                                     ...       ...            ...  \n",
      "4545002   Sweet Teriyaki Chicken Oven Sauce         5             13  \n",
      "4545003          Crisp Waters Candle Scents       101             17  \n",
      "4545004  Shine Collection Brillance Shampoo        22             11  \n",
      "4545005    Total Mint Stripe Gel Toothpaste        20             11  \n",
      "4545006                 Egg Replacer Powder        17             13  \n",
      "\n",
      "[4535460 rows x 7 columns]\n"
     ]
    }
   ],
   "source": [
    "top_t_re= top_t_re.dropna()\n",
    "print(top_t_re)"
   ]
  },
  {
   "cell_type": "code",
   "execution_count": 55,
   "id": "b62ddf87",
   "metadata": {},
   "outputs": [
    {
     "name": "stdout",
     "output_type": "stream",
     "text": [
      "product_id  product_name                                                     \n",
      "1           Chocolate Sandwich Cookies                                           280\n",
      "2           All-Seasons Salt                                                      11\n",
      "3           Robust Golden Unsweetened Oolong Tea                                  42\n",
      "4           Smart Ones Classic Favorites Mini Rigatoni With Vodka Cream Sauce     49\n",
      "7           Pure Coconut Water With Orange                                         2\n",
      "                                                                                ... \n",
      "49690       HIGH PERFORMANCE ENERGY DRINK                                          5\n",
      "49691       ORIGINAL PANCAKE & WAFFLE MIX                                         72\n",
      "49692       ORGANIC INSTANT OATMEAL LIGHT MAPLE BROWN SUGAR                       12\n",
      "49693       SPRING WATER BODY WASH                                                25\n",
      "49694       BURRITO- STEAK & CHEESE                                                9\n",
      "Name: reordered, Length: 44613, dtype: int64\n"
     ]
    }
   ],
   "source": [
    "top_t_re = top_t_re.groupby(['product_id','product_name'])['reordered'].count()\n",
    "print(top_t_re)"
   ]
  },
  {
   "cell_type": "code",
   "execution_count": 56,
   "id": "5f068981",
   "metadata": {},
   "outputs": [
    {
     "name": "stdout",
     "output_type": "stream",
     "text": [
      "product_id  product_name            \n",
      "24852       Banana                      66050\n",
      "13176       Bag of Organic Bananas      53297\n",
      "21137       Organic Strawberries        37039\n",
      "21903       Organic Baby Spinach        33971\n",
      "47209       Organic Hass Avocado        29773\n",
      "47766       Organic Avocado             24689\n",
      "47626       Large Lemon                 21495\n",
      "16797       Strawberries                20018\n",
      "26209       Limes                       19690\n",
      "27845       Organic Whole Milk          19600\n",
      "27966       Organic Raspberries         19197\n",
      "22935       Organic Yellow Onion        15898\n",
      "24964       Organic Garlic              15292\n",
      "45007       Organic Zucchini            14584\n",
      "39275       Organic Blueberries         13879\n",
      "49683       Cucumber Kirby              13675\n",
      "28204       Organic Fuji Apple          12544\n",
      "5876        Organic Lemon               12232\n",
      "8277        Apple Honeycrisp Organic    11993\n",
      "40706       Organic Grape Tomatoes      11781\n",
      "Name: reordered, dtype: int64\n"
     ]
    }
   ],
   "source": [
    "print(top_t_re.sort_values(ascending=False).head(20))"
   ]
  }
 ],
 "metadata": {
  "kernelspec": {
   "display_name": "Python 3 (ipykernel)",
   "language": "python",
   "name": "python3"
  },
  "language_info": {
   "codemirror_mode": {
    "name": "ipython",
    "version": 3
   },
   "file_extension": ".py",
   "mimetype": "text/x-python",
   "name": "python",
   "nbconvert_exporter": "python",
   "pygments_lexer": "ipython3",
   "version": "3.9.12"
  }
 },
 "nbformat": 4,
 "nbformat_minor": 5
}
